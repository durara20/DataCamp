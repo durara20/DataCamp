{
 "cells": [
  {
   "cell_type": "code",
   "execution_count": 2,
   "metadata": {},
   "outputs": [
    {
     "name": "stdout",
     "output_type": "stream",
     "text": [
      "DecisionTree\n",
      "train accuracy= 97.143%\n",
      "test accuracy= 97.368%\n",
      "RandomForest\n",
      "train accuracy= 99.560%\n",
      "test accuracy= 95.614%\n",
      "GradientBoostingClassifier\n",
      "train accuracy= 98.022%\n",
      "test accuracy= 98.246%\n",
      "XGBClassifier\n",
      "train accuracy= 100.000%\n",
      "test accuracy= 99.123%\n"
     ]
    },
    {
     "name": "stderr",
     "output_type": "stream",
     "text": [
      "C:\\Users\\abasa\\AppData\\Local\\Packages\\PythonSoftwareFoundation.Python.3.10_qbz5n2kfra8p0\\LocalCache\\local-packages\\Python310\\site-packages\\xgboost\\sklearn.py:1421: UserWarning: `use_label_encoder` is deprecated in 1.7.0.\n",
      "  warnings.warn(\"`use_label_encoder` is deprecated in 1.7.0.\")\n"
     ]
    }
   ],
   "source": [
    "from sklearn.datasets import load_breast_cancer\n",
    "from sklearn.model_selection import train_test_split\n",
    "from sklearn.tree import DecisionTreeClassifier\n",
    "from sklearn.ensemble import RandomForestClassifier\n",
    "from sklearn.ensemble import GradientBoostingClassifier\n",
    "from xgboost import XGBClassifier\n",
    "from sklearn import tree\n",
    "import graphviz\n",
    "import os\n",
    "os.environ[\"PATH\"] += os.pathsep + 'D:/Program Files (x86)/Graphviz2.38/bin/'\n",
    "cancer = load_breast_cancer()\n",
    "X, y, labels, features = cancer.data, cancer.target, cancer.target_names, cancer.feature_names\n",
    "\n",
    "X_train, X_test, y_train, y_test = train_test_split(X, y, test_size=0.2)\n",
    "\n",
    "max_depth = 3\n",
    "\n",
    "print('DecisionTree')\n",
    "clf_d_t = DecisionTreeClassifier(\n",
    "    criterion=  'entropy',\n",
    "    random_state=20,        \n",
    "    max_depth=max_depth,    \n",
    "#     max_leaf_nodes=4,\n",
    ").fit(X_train, y_train)\n",
    "\n",
    "print(\"train accuracy= {:.3%}\".format(clf_d_t.score (X_train, y_train)))\n",
    "print(\"test accuracy= {:.3%}\".format(clf_d_t.score (X_test, y_test)))\n",
    "# graph_viz = tree.export_graphviz(clf, out_file=None,feature_names=features, class_names=labels, filled = True)\n",
    "# graph = graphviz.Source(graph_viz)\n",
    "# graph.view(cleanup =True) # cleanup (bool) – Delete the source file after rendering.\n",
    "\n",
    "print(\"RandomForest\")\n",
    "clf_r_f = RandomForestClassifier(\n",
    "            random_state=20,\n",
    "            n_estimators=10,      \n",
    "        ).fit(X_train, y_train)\n",
    "\n",
    "print(\"train accuracy= {:.3%}\".format(clf_r_f.score (X_train, y_train)))\n",
    "print(\"test accuracy= {:.3%}\".format(clf_r_f.score (X_test, y_test)))\n",
    " \n",
    "print ('GradientBoostingClassifier')\n",
    "clf_g_b = GradientBoostingClassifier(\n",
    "    learning_rate=0.01,\n",
    "    max_depth=3\n",
    ").fit(X_train, y_train)\n",
    "print(\"train accuracy= {:.3%}\".format(clf_g_b.score (X_train, y_train)))\n",
    "print(\"test accuracy= {:.3%}\".format(clf_g_b.score (X_test, y_test)))\n",
    "\n",
    "print ('XGBClassifier')\n",
    "clf_xgb = XGBClassifier(use_label_encoder=False, eval_metric= 'logloss')\n",
    "clf_xgb.fit(X_train, y_train)\n",
    "print(\"train accuracy= {:.3%}\".format(clf_xgb.score (X_train, y_train)))\n",
    "print(\"test accuracy= {:.3%}\".format(clf_xgb.score (X_test, y_test)))\n",
    "\n",
    "\n",
    "\n"
   ]
  },
  {
   "attachments": {},
   "cell_type": "markdown",
   "metadata": {},
   "source": [
    "<img src='Screenshot (365).png'>"
   ]
  },
  {
   "attachments": {},
   "cell_type": "markdown",
   "metadata": {},
   "source": [
    "<img src=\"Screenshot (366).png\">"
   ]
  },
  {
   "attachments": {},
   "cell_type": "markdown",
   "metadata": {},
   "source": [
    "<img src=\"Screenshot (367).png\">"
   ]
  },
  {
   "cell_type": "code",
   "execution_count": null,
   "metadata": {},
   "outputs": [],
   "source": []
  }
 ],
 "metadata": {
  "kernelspec": {
   "display_name": "Python 3 (ipykernel)",
   "language": "python",
   "name": "python3"
  },
  "language_info": {
   "codemirror_mode": {
    "name": "ipython",
    "version": 3
   },
   "file_extension": ".py",
   "mimetype": "text/x-python",
   "name": "python",
   "nbconvert_exporter": "python",
   "pygments_lexer": "ipython3",
   "version": "3.10.9"
  },
  "vscode": {
   "interpreter": {
    "hash": "34bbadec9adf0ac853d67e6112bfc54e191411239a5bffbfa3fa4d3446ce0e03"
   }
  }
 },
 "nbformat": 4,
 "nbformat_minor": 4
}
