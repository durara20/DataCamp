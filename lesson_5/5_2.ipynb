{
 "cells": [
  {
   "cell_type": "code",
   "execution_count": 21,
   "metadata": {},
   "outputs": [
    {
     "name": "stdout",
     "output_type": "stream",
     "text": [
      "Call prediction for all grid values (precision of drawing = 0.01, you may configure to speed up e.g. precision=0.05)\n"
     ]
    }
   ],
   "source": [
    "from sklearn.datasets import make_blobs\n",
    "import numpy as np\n",
    "import matplotlib.pyplot as plt\n",
    "from matplotlib.colors import ListedColormap\n",
    "from sklearn.model_selection import train_test_split\n",
    "from sklearn.neighbors import KNeighborsRegressor\n",
    "from sklearn.preprocessing import MinMaxScaler\n",
    "import ML_mst as mst\n",
    "cmap_bold = ListedColormap(['blue','#FFFF00','black','green'])\n",
    "\n",
    "#synthetic dataset\n",
    "np.random.seed= 2021\n",
    "X_D2, y_D2 = make_blobs(n_samples = 300, n_features = 2, centers = 8,\n",
    "                       cluster_std = 1.3, random_state = 4)\n",
    "\n",
    "y_D2 = y_D2 % 2\n",
    "X_train,X_test,y_train,y_test=train_test_split(X_D2,y_D2,test_size=0.3)\n",
    "scaler= MinMaxScaler()\n",
    "X_train_scaled= scaler.fit_transform(X_train)\n",
    "X_test_scaled = scaler.transform(X_test)\n",
    "\n",
    "k_best = 0 # 'compute the best k'\n",
    "score_best = 0 #'compute the best score'\n",
    "for k in range(1,30):#second parameter is a size of a test set\n",
    "   model = KNeighborsRegressor(n_neighbors = k)\n",
    "   model.fit(X_train_scaled, y_train)\n",
    "   score = model.score(X_test_scaled, y_test)\n",
    "   if score>score_best:\n",
    "        score_best=score\n",
    "        k_best=k\n",
    "   \n",
    "\n",
    "\n",
    "mst.plot_decision_boundary(model, X_train_scaled, y_train, X_test=X_test_scaled, y_test= y_test,\n",
    "                               title='KNN classification K= {}, score = {:.2f}'.format(k_best, score_best), \n",
    "                               precision=0.01,plot_symbol_size = 50)\n",
    "\n"
   ]
  }
 ],
 "metadata": {
  "kernelspec": {
   "display_name": "Python 3.10.8 64-bit (microsoft store)",
   "language": "python",
   "name": "python3"
  },
  "language_info": {
   "codemirror_mode": {
    "name": "ipython",
    "version": 3
   },
   "file_extension": ".py",
   "mimetype": "text/x-python",
   "name": "python",
   "nbconvert_exporter": "python",
   "pygments_lexer": "ipython3",
   "version": "3.10.9 (tags/v3.10.9:1dd9be6, Dec  6 2022, 20:01:21) [MSC v.1934 64 bit (AMD64)]"
  },
  "orig_nbformat": 4,
  "vscode": {
   "interpreter": {
    "hash": "34bbadec9adf0ac853d67e6112bfc54e191411239a5bffbfa3fa4d3446ce0e03"
   }
  }
 },
 "nbformat": 4,
 "nbformat_minor": 2
}
