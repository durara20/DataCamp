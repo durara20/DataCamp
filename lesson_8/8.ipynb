{
 "cells": [
  {
   "cell_type": "code",
   "execution_count": 39,
   "metadata": {},
   "outputs": [
    {
     "name": "stdout",
     "output_type": "stream",
     "text": [
      "LinearSVC accuracy= 93.333%\n",
      "SVM rbf accuracy= 83.333%\n",
      "SVM rbf accuracy= 83.333%\n"
     ]
    }
   ],
   "source": [
    "from sklearn.datasets import load_iris\n",
    "from sklearn.model_selection import train_test_split\n",
    "from sklearn.preprocessing import StandardScaler\n",
    "from sklearn.svm import LinearSVC \n",
    "from sklearn.svm import SVC\n",
    "from matplotlib import pyplot as plt\n",
    "import numpy as np\n",
    "# YOUR_CODE.  Try linear, rbf and poly kernels \n",
    "# START_CODE \n",
    "\n",
    "iris = load_iris()\n",
    "X,y=iris.data,iris.target\n",
    "X_train, X_test, y_train, y_test=train_test_split(X,y,test_size=0.2)\n",
    "\n",
    "clf_l = LinearSVC(C=1, max_iter= 10000).fit(X_train,y_train)\n",
    "print(\"LinearSVC accuracy= {:.3%}\".format(clf_l.score(X_test,y_test)))\n",
    "\n",
    "clf_rbf = SVC(C=10, kernel='rbf', gamma=0.001).fit(X_train,y_train) # rbf is default \n",
    "print(\"SVM rbf accuracy= {:.3%}\".format(clf_rbf.score (X_test,y_test)))\n",
    "\n",
    "clf_svm  = SVC(C=5000, kernel='poly', degree=3).fit (X_train, y_train)\n",
    "print(\"SVM rbf accuracy= {:.3%}\".format(clf_rbf.score (X_test,y_test)))\n",
    "\n",
    "# END_CODE "
   ]
  }
 ],
 "metadata": {
  "kernelspec": {
   "display_name": "Python 3",
   "language": "python",
   "name": "python3"
  },
  "language_info": {
   "codemirror_mode": {
    "name": "ipython",
    "version": 3
   },
   "file_extension": ".py",
   "mimetype": "text/x-python",
   "name": "python",
   "nbconvert_exporter": "python",
   "pygments_lexer": "ipython3",
   "version": "3.10.9"
  },
  "orig_nbformat": 4,
  "vscode": {
   "interpreter": {
    "hash": "34bbadec9adf0ac853d67e6112bfc54e191411239a5bffbfa3fa4d3446ce0e03"
   }
  }
 },
 "nbformat": 4,
 "nbformat_minor": 2
}
